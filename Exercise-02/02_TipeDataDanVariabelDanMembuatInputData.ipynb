{
 "cells": [
  {
   "cell_type": "markdown",
   "metadata": {},
   "source": [
    "# Exercise 2\n",
    "\n",
    "1. Salinlah kode di bawah ini dan isilah titik-titik sesuai dengan perintah yang ada\n",
    "![](./images/02_TipeDataDanVariabel.png)"
   ]
  },
  {
   "cell_type": "code",
   "execution_count": 1,
   "metadata": {},
   "outputs": [
    {
     "name": "stdout",
     "output_type": "stream",
     "text": [
      "nama lengkap saya adalah=  Danu Aflah Burhanuddin Nabhan\n",
      "nama panggilan saya adalah =  Danu\n",
      "Umur saya saat ini adalah =  19\n",
      "tipe data variabel Umur adalah =  <class 'str'>\n",
      "Umur saya saat ini adalah =  sembilan belas tahun\n",
      "tipe data variabel Umur adalah =  <class 'str'>\n",
      "tinggi badan saya saat ini adalah =  169.5\n",
      "tipe data variabel tinggi badan adalah =  <class 'float'>\n",
      "saya merupakan mahasiswa angkatan 2021 adalah =  True\n",
      "tipe data variabel mahasiswaangkatan2021 adalah =  <class 'bool'>\n"
     ]
    }
   ],
   "source": [
    "#Kerjakan nomor satu disini\n",
    "Nama = \"Danu Aflah Burhanuddin Nabhan\"\n",
    "nama = \"Danu\"\n",
    "print(\"nama lengkap saya adalah= \", Nama)\n",
    "print(\"nama panggilan saya adalah = \", nama)\n",
    "_umur = \"19\"\n",
    "print(\"Umur saya saat ini adalah = \",_umur)\n",
    "print(\"tipe data variabel Umur adalah = \",type(_umur))\n",
    "_umur = \"sembilan belas tahun\"\n",
    "print(\"Umur saya saat ini adalah = \",_umur)\n",
    "print(\"tipe data variabel Umur adalah = \",type(_umur))\n",
    "tinggi_badan = float(169+0.5)\n",
    "print(\"tinggi badan saya saat ini adalah = \",tinggi_badan)\n",
    "print(\"tipe data variabel tinggi badan adalah = \",type(tinggi_badan))\n",
    "mahasiswaangkatan2021 = True\n",
    "print(\"saya merupakan mahasiswa angkatan 2021 adalah = \",mahasiswaangkatan2021)\n",
    "print(\"tipe data variabel mahasiswaangkatan2021 adalah = \",type(mahasiswaangkatan2021))"
   ]
  },
  {
   "cell_type": "markdown",
   "metadata": {},
   "source": [
    "2. Salinlah kode di bawah ini dan isilah titik-titik sesuai dengan perintah yang ada\n",
    "![](./images/02_MembuatInputData.png)"
   ]
  },
  {
   "cell_type": "code",
   "execution_count": 2,
   "metadata": {},
   "outputs": [
    {
     "name": "stdout",
     "output_type": "stream",
     "text": [
      "Program Konversi Panjang dalam Meter ke berbagai Satuan\n",
      "\n",
      "\n",
      "70103 m = 70.103 km\n",
      "70103 m = 7010300 cm\n",
      "70103 m = 70103000 mm\n",
      "70103 m = 70103000000 μm\n",
      "70103 m = 70103000000000 nm\n",
      "70103 m = 2759960.6299 in\n",
      "70103 m = 229996.7192 ft\n",
      "70103 m = 76665.5731 yard\n",
      "70103 m = 43.56 mi\n",
      "70103 m = 37.8526 nmi\n"
     ]
    }
   ],
   "source": [
    "#Kerjakan nomor satu disini\n",
    "#simbol miu --> μ\n",
    "print(\"Program Konversi Panjang dalam Meter ke berbagai Satuan\")\n",
    "print(\"\")\n",
    "length = int(input(\"masukan nilai panjang dalam meter : \"))\n",
    "feet = length / 0.3048\n",
    "print(\"\")\n",
    "print(length, \"m =\", length / 1000, \"km\")\n",
    "print(length, \"m =\", length * 100, \"cm\")\n",
    "print(length, \"m =\", length * 1000, \"mm\")\n",
    "print(length, \"m =\", length * 1000000, \"μm\")\n",
    "print(length, \"m =\", length * 1000000000, \"nm\")\n",
    "print(length, \"m =\", round(feet * 12, 4), \"in\")\n",
    "print(length, \"m =\", round(feet, 4), \"ft\")\n",
    "print(length, \"m =\", round(feet / 3, 4), \"yard\")\n",
    "print(length, \"m =\", round(feet / 5280, 4), \"mi\")\n",
    "print(length, \"m =\", round(length / 1852, 4), \"nmi\")"
   ]
  },
  {
   "cell_type": "markdown",
   "metadata": {},
   "source": [
    "### Cara Pengumpulan\n",
    "\n",
    "1. Buka *New Terminal*\n",
    "2. Pastikan *path* Terminal adalah folder repositori kalian (NIM-Nama-Prokom).\n",
    "3. Tambahkan file yang akan ditrack dengan `git add <nama file>`. Nama file bisa diubah . (titik) yang artinya semua file dalam folder akan ditrack.\n",
    "4. Lakukan commit perubahan dengan `git commit -m <deskripsi>`.\n",
    "5. Lakukan push dengan `git push -u origin <nama branch>`. Nama branch dapat diketahui dengan `git branch`.\n",
    "6. Pastikan Exercise-02 telah terupload dan dapat diakses di repositori dengan mengaksesnya di browser."
   ]
  }
 ],
 "metadata": {
  "interpreter": {
   "hash": "ac59ebe37160ed0dfa835113d9b8498d9f09ceb179beaac4002f036b9467c963"
  },
  "kernelspec": {
   "display_name": "Python 3.9.8 64-bit",
   "language": "python",
   "name": "python3"
  },
  "language_info": {
   "codemirror_mode": {
    "name": "ipython",
    "version": 3
   },
   "file_extension": ".py",
   "mimetype": "text/x-python",
   "name": "python",
   "nbconvert_exporter": "python",
   "pygments_lexer": "ipython3",
   "version": "3.10.2"
  },
  "orig_nbformat": 4
 },
 "nbformat": 4,
 "nbformat_minor": 2
}
